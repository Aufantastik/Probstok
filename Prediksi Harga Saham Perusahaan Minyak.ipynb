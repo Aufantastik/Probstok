{
  "nbformat": 4,
  "nbformat_minor": 0,
  "metadata": {
    "colab": {
      "name": "Untitled3.ipynb",
      "provenance": [],
      "collapsed_sections": []
    },
    "kernelspec": {
      "name": "python3",
      "display_name": "Python 3"
    }
  },
  "cells": [
    {
      "cell_type": "code",
      "metadata": {
        "id": "EyCYz7FgDqoq",
        "colab_type": "code",
        "colab": {}
      },
      "source": [
        "import pandas as pd\n",
        "import numpy as np\n",
        "import matplotlib.pyplot as plt\n",
        "import seaborn as sns\n",
        "import time\n",
        "import matplotlib.pyplot as plt\n",
        "import random\n",
        "from collections import Counter as ct"
      ],
      "execution_count": 0,
      "outputs": []
    },
    {
      "cell_type": "code",
      "metadata": {
        "id": "jwp8sdM5Dv6j",
        "colab_type": "code",
        "colab": {}
      },
      "source": [
        "from sklearn.naive_bayes import GaussianNB\n",
        "from sklearn.preprocessing import LabelEncoder\n",
        "from sklearn.model_selection import train_test_split\n",
        "from sklearn.metrics import accuracy_score "
      ],
      "execution_count": 0,
      "outputs": []
    },
    {
      "cell_type": "code",
      "metadata": {
        "id": "mPhhnDwhDy_e",
        "colab_type": "code",
        "outputId": "15403e40-344a-49ad-ae55-f66085f2d9c4",
        "colab": {
          "base_uri": "https://localhost:8080/",
          "height": 34
        }
      },
      "source": [
        "from google.colab import drive\n",
        "drive.mount('/content/gdrive')"
      ],
      "execution_count": 0,
      "outputs": [
        {
          "output_type": "stream",
          "text": [
            "Drive already mounted at /content/gdrive; to attempt to forcibly remount, call drive.mount(\"/content/gdrive\", force_remount=True).\n"
          ],
          "name": "stdout"
        }
      ]
    },
    {
      "cell_type": "code",
      "metadata": {
        "id": "crPZxbozESkp",
        "colab_type": "code",
        "colab": {}
      },
      "source": [
        "data1 = pd.read_csv('gdrive/My Drive/Probstok/XOM (1).csv')"
      ],
      "execution_count": 0,
      "outputs": []
    },
    {
      "cell_type": "code",
      "metadata": {
        "id": "0AiJiETeEW8a",
        "colab_type": "code",
        "outputId": "cd264cf7-6e50-43d3-8bcb-ec7cff0746e3",
        "colab": {
          "base_uri": "https://localhost:8080/",
          "height": 255
        }
      },
      "source": [
        "print(data1)"
      ],
      "execution_count": 0,
      "outputs": [
        {
          "output_type": "stream",
          "text": [
            "             Date       Open       High  ...      Close  Adj Close    Volume\n",
            "0      1962-01-02   0.000000   1.589844  ...   1.578125   0.014113    902400\n",
            "1      1962-01-03   0.000000   1.601563  ...   1.601563   0.014323   1200000\n",
            "2      1962-01-04   0.000000   1.613281  ...   1.605469   0.014358   1088000\n",
            "3      1962-01-05   0.000000   1.613281  ...   1.570313   0.014043   1222400\n",
            "4      1962-01-08   0.000000   1.582031  ...   1.566406   0.014008   1388800\n",
            "...           ...        ...        ...  ...        ...        ...       ...\n",
            "14578  2019-11-29  68.330002  68.529999  ...  68.129997  68.129997   7980800\n",
            "14579  2019-12-02  68.500000  68.879997  ...  68.419998  68.419998  11116900\n",
            "14580  2019-12-03  68.000000  68.250000  ...  67.879997  67.879997  12245800\n",
            "14581  2019-12-04  68.250000  68.760002  ...  68.650002  68.650002  11049700\n",
            "14582  2019-12-05  68.889999  68.970001  ...  68.410004  68.410004   9808795\n",
            "\n",
            "[14583 rows x 7 columns]\n"
          ],
          "name": "stdout"
        }
      ]
    },
    {
      "cell_type": "code",
      "metadata": {
        "id": "MkkRDXYeEasS",
        "colab_type": "code",
        "outputId": "a26dd0e9-8688-4760-d5b6-009562f1c6da",
        "colab": {
          "base_uri": "https://localhost:8080/",
          "height": 176
        }
      },
      "source": [
        "data1 = data1.set_index('Date')\n",
        "sns.set(rc={'figure.figsize':(8, 2)})\n",
        "adj_close = data1['Adj Close']\n",
        "data1.loc['1962': '2019', 'Adj Close'].plot(linewidth=0.5);"
      ],
      "execution_count": 0,
      "outputs": [
        {
          "output_type": "display_data",
          "data": {
            "image/png": "[encoded data removed]",
            "text/plain": [
              "<Figure size 576x144 with 1 Axes>"
            ]
          },
          "metadata": {
            "tags": []
          }
        }
      ]
    },
    {
      "cell_type": "code",
      "metadata": {
        "id": "PqyJ-p8sEgmz",
        "colab_type": "code",
        "outputId": "48622f11-0b9e-45c8-880a-aaaa070cd6dd",
        "colab": {
          "base_uri": "https://localhost:8080/",
          "height": 34
        }
      },
      "source": [
        "data1['Adj Close'].mean()"
      ],
      "execution_count": 0,
      "outputs": [
        {
          "output_type": "execute_result",
          "data": {
            "text/plain": [
              "19.837078902146384"
            ]
          },
          "metadata": {
            "tags": []
          },
          "execution_count": 64
        }
      ]
    },
    {
      "cell_type": "code",
      "metadata": {
        "id": "5ldSsuhiEjMt",
        "colab_type": "code",
        "colab": {}
      },
      "source": [
        "base_data1 = \"Adj Close\"\n",
        "data_p1= 19.837078902146384\n",
        "data1[\"Prediction1\"] = np.where(\n",
        "data1[base_data1] >= data_p1,\"Positive\",\"Negative\")"
      ],
      "execution_count": 0,
      "outputs": []
    },
    {
      "cell_type": "code",
      "metadata": {
        "id": "R3tFFi5LElRv",
        "colab_type": "code",
        "outputId": "ef744ee9-3dd6-469d-eef6-ac8a0183f2fe",
        "colab": {
          "base_uri": "https://localhost:8080/",
          "height": 238
        }
      },
      "source": [
        "print(data1[\"Prediction1\"])"
      ],
      "execution_count": 0,
      "outputs": [
        {
          "output_type": "stream",
          "text": [
            "Date\n",
            "1962-01-02    Negative\n",
            "1962-01-03    Negative\n",
            "1962-01-04    Negative\n",
            "1962-01-05    Negative\n",
            "1962-01-08    Negative\n",
            "                ...   \n",
            "2019-11-29    Positive\n",
            "2019-12-02    Positive\n",
            "2019-12-03    Positive\n",
            "2019-12-04    Positive\n",
            "2019-12-05    Positive\n",
            "Name: Prediction1, Length: 14583, dtype: object\n"
          ],
          "name": "stdout"
        }
      ]
    },
    {
      "cell_type": "code",
      "metadata": {
        "id": "i0xSug2pEomf",
        "colab_type": "code",
        "outputId": "0a7838f2-d630-4c3b-8db5-01ed4aec535d",
        "colab": {
          "base_uri": "https://localhost:8080/",
          "height": 156
        }
      },
      "source": [
        "counts = ct(data1[\"Prediction1\"])\n",
        "count_p = counts['Positive']\n",
        "count_n = counts['Negative']\n",
        "slices = [count_p,count_n]\n",
        "cols = ['b','c']\n",
        "plt.pie(slices, labels=['Positive','Negative'],colors = cols,shadow=True,startangle=90,autopct='%1.1f%%')\n",
        "plt.title(\"Prediksi\")\n",
        "plt.legend()\n",
        "plt.show()"
      ],
      "execution_count": 0,
      "outputs": [
        {
          "output_type": "display_data",
          "data": {
            "image/png": "[encoded data removed]",
            "text/plain": [
              "<Figure size 576x144 with 1 Axes>"
            ]
          },
          "metadata": {
            "tags": []
          }
        }
      ]
    },
    {
      "cell_type": "code",
      "metadata": {
        "id": "nMs0v77gMP_K",
        "colab_type": "code",
        "colab": {}
      },
      "source": [
        "data2 = pd.read_csv('gdrive/My Drive/Probstok/GXOCF.csv')"
      ],
      "execution_count": 0,
      "outputs": []
    },
    {
      "cell_type": "code",
      "metadata": {
        "id": "WwrmlBFVM8ix",
        "colab_type": "code",
        "outputId": "c0a9786c-6814-4b90-b21e-d2137f349d29",
        "colab": {
          "base_uri": "https://localhost:8080/",
          "height": 272
        }
      },
      "source": [
        "print(data2) "
      ],
      "execution_count": 0,
      "outputs": [
        {
          "output_type": "stream",
          "text": [
            "             Open    High    Low     Close  Adj Close  Volume\n",
            "Date                                                         \n",
            "2018-12-06  0.620  0.6600  0.600  0.640000   0.640000    7200\n",
            "2018-12-07  0.610  0.6500  0.600  0.620000   0.620000   19300\n",
            "2018-12-10  0.600  0.6000  0.570  0.580000   0.580000   23900\n",
            "2018-12-11  0.580  0.5800  0.540  0.550000   0.550000   16600\n",
            "2018-12-12  0.540  0.5600  0.540  0.560000   0.560000    5100\n",
            "...           ...     ...    ...       ...        ...     ...\n",
            "2019-11-29  0.320  0.3200  0.320  0.320000   0.320000       0\n",
            "2019-12-02  0.340  0.3400  0.300  0.310000   0.310000  106200\n",
            "2019-12-03  0.300  0.3200  0.300  0.320000   0.320000   23000\n",
            "2019-12-04  0.320  0.3200  0.320  0.320000   0.320000       0\n",
            "2019-12-05  0.315  0.3277  0.315  0.320248   0.320248   18680\n",
            "\n",
            "[252 rows x 6 columns]\n"
          ],
          "name": "stdout"
        }
      ]
    },
    {
      "cell_type": "code",
      "metadata": {
        "id": "biTYqMT3M-_P",
        "colab_type": "code",
        "outputId": "478bb2ca-5505-46c2-c196-479901ae17cf",
        "colab": {
          "base_uri": "https://localhost:8080/",
          "height": 176
        }
      },
      "source": [
        "data2.loc['2018': '2019', 'Adj Close'].plot(linewidth=0.5);"
      ],
      "execution_count": 0,
      "outputs": [
        {
          "output_type": "display_data",
          "data": {
            "image/png": "[encoded data removed]",
            "text/plain": [
              "<Figure size 576x144 with 1 Axes>"
            ]
          },
          "metadata": {
            "tags": []
          }
        }
      ]
    },
    {
      "cell_type": "code",
      "metadata": {
        "id": "eaaKKkCfN3n8",
        "colab_type": "code",
        "outputId": "75ff7dd2-7d1f-48e2-ef2e-05054de6422e",
        "colab": {
          "base_uri": "https://localhost:8080/",
          "height": 34
        }
      },
      "source": [
        "data2['Adj Close'].mean()"
      ],
      "execution_count": 0,
      "outputs": [
        {
          "output_type": "execute_result",
          "data": {
            "text/plain": [
              "0.5063501904761901"
            ]
          },
          "metadata": {
            "tags": []
          },
          "execution_count": 81
        }
      ]
    },
    {
      "cell_type": "code",
      "metadata": {
        "id": "lDTdJfqnN6pd",
        "colab_type": "code",
        "colab": {}
      },
      "source": [
        "base_data2 = \"Adj Close\"\n",
        "data_p2= 0.5063501904761901\n",
        "data2[\"Prediction2\"] = np.where(\n",
        " data2[base_data2] >= data_p2,\"Positive\",\"Negative\")"
      ],
      "execution_count": 0,
      "outputs": []
    },
    {
      "cell_type": "code",
      "metadata": {
        "id": "BcQoIdVVN-7g",
        "colab_type": "code",
        "outputId": "c66801d2-7153-4d5b-cc86-63690f75e410",
        "colab": {
          "base_uri": "https://localhost:8080/",
          "height": 238
        }
      },
      "source": [
        "print(data2[\"Prediction2\"])"
      ],
      "execution_count": 0,
      "outputs": [
        {
          "output_type": "stream",
          "text": [
            "Date\n",
            "2018-12-06    Positive\n",
            "2018-12-07    Positive\n",
            "2018-12-10    Positive\n",
            "2018-12-11    Positive\n",
            "2018-12-12    Positive\n",
            "                ...   \n",
            "2019-11-29    Negative\n",
            "2019-12-02    Negative\n",
            "2019-12-03    Negative\n",
            "2019-12-04    Negative\n",
            "2019-12-05    Negative\n",
            "Name: Prediction2, Length: 252, dtype: object\n"
          ],
          "name": "stdout"
        }
      ]
    },
    {
      "cell_type": "code",
      "metadata": {
        "id": "IMAr2WOFOB4H",
        "colab_type": "code",
        "outputId": "5ab450ae-37b9-4538-88ae-fdc5f01e9879",
        "colab": {
          "base_uri": "https://localhost:8080/",
          "height": 156
        }
      },
      "source": [
        "counts = ct(data2[\"Prediction2\"])\n",
        "count_p = counts['Positive']\n",
        "count_n = counts['Negative']\n",
        "slices = [count_p,count_n]\n",
        "cols = ['b','c']\n",
        "plt.pie(slices, labels=['Positive','Negative'],colors = cols,shadow=True,startangle=90,autopct='%1.1f%%')\n",
        "plt.title(\"Prediksi\")\n",
        "plt.legend()\n",
        "plt.show()"
      ],
      "execution_count": 0,
      "outputs": [
        {
          "output_type": "display_data",
          "data": {
            "image/png": "[encoded data removed]",
            "text/plain": [
              "<Figure size 576x144 with 1 Axes>"
            ]
          },
          "metadata": {
            "tags": []
          }
        }
      ]
    },
    {
      "cell_type": "code",
      "metadata": {
        "id": "LD2vwucpOF7o",
        "colab_type": "code",
        "colab": {}
      },
      "source": [
        "data3 = pd.read_csv('gdrive/My Drive/Probstok/Bellatrix.csv')"
      ],
      "execution_count": 0,
      "outputs": []
    },
    {
      "cell_type": "code",
      "metadata": {
        "id": "6OatKrRsOKeV",
        "colab_type": "code",
        "outputId": "56f6ffa3-e8e3-47f7-9e58-d4e62b36e0cc",
        "colab": {
          "base_uri": "https://localhost:8080/",
          "height": 255
        }
      },
      "source": [
        "print(data3) "
      ],
      "execution_count": 0,
      "outputs": [
        {
          "output_type": "stream",
          "text": [
            "           Date        Open        High  ...       Close   Adj Close  Volume\n",
            "0    2018-12-17  253.229996  253.229996  ...  253.229996  253.229996     0.0\n",
            "1    2018-12-18  251.809998  251.809998  ...  251.809998  251.809998     0.0\n",
            "2    2018-12-19  252.309998  252.309998  ...  252.309998  252.309998     0.0\n",
            "3    2018-12-20  249.539993  249.539993  ...  249.539993  249.539993     0.0\n",
            "4    2018-12-21  249.509995  249.509995  ...  249.509995  249.509995     0.0\n",
            "..          ...         ...         ...  ...         ...         ...     ...\n",
            "248  2019-12-06  277.959991  277.959991  ...  277.959991  277.959991     0.0\n",
            "249  2019-12-09  277.820007  277.820007  ...  277.820007  277.820007     0.0\n",
            "250  2019-12-10  277.619995  277.619995  ...  277.619995  277.619995     0.0\n",
            "251  2019-12-11  278.200012  278.200012  ...  278.200012  278.200012     0.0\n",
            "252  2019-12-12  278.529999  278.529999  ...  278.529999  278.529999     0.0\n",
            "\n",
            "[253 rows x 7 columns]\n"
          ],
          "name": "stdout"
        }
      ]
    },
    {
      "cell_type": "code",
      "metadata": {
        "id": "28yNVdpMOP6J",
        "colab_type": "code",
        "outputId": "1bdc80f9-995b-4717-bdd1-ede68ba3bbc4",
        "colab": {
          "base_uri": "https://localhost:8080/",
          "height": 176
        }
      },
      "source": [
        "data3.loc['2018': '2019', 'Adj Close'].plot(linewidth=0.5);"
      ],
      "execution_count": 0,
      "outputs": [
        {
          "output_type": "display_data",
          "data": {
            "image/png": "[encoded data removed]",
            "text/plain": [
              "<Figure size 576x144 with 1 Axes>"
            ]
          },
          "metadata": {
            "tags": []
          }
        }
      ]
    },
    {
      "cell_type": "code",
      "metadata": {
        "id": "cTc8iO73Oapt",
        "colab_type": "code",
        "outputId": "2d8b9cff-4488-42d2-c788-f90edcb0cc28",
        "colab": {
          "base_uri": "https://localhost:8080/",
          "height": 34
        }
      },
      "source": [
        "data3['Adj Close'].mean()"
      ],
      "execution_count": 0,
      "outputs": [
        {
          "output_type": "execute_result",
          "data": {
            "text/plain": [
              "266.7531534481329"
            ]
          },
          "metadata": {
            "tags": []
          },
          "execution_count": 90
        }
      ]
    },
    {
      "cell_type": "code",
      "metadata": {
        "id": "Hjx-CErpOdw4",
        "colab_type": "code",
        "colab": {}
      },
      "source": [
        "base_data3 = \"Adj Close\"\n",
        "data_p3= 266.7531534481329\n",
        "data3[\"Prediction3\"] = np.where(\n",
        "data3[base_data3] >= data_p3,\"Positive\",\"Negative\")"
      ],
      "execution_count": 0,
      "outputs": []
    },
    {
      "cell_type": "code",
      "metadata": {
        "id": "os3HNdOxOgnI",
        "colab_type": "code",
        "outputId": "0e94b89f-6d09-44de-fda7-4791ff91612f",
        "colab": {
          "base_uri": "https://localhost:8080/",
          "height": 238
        }
      },
      "source": [
        "print(data3[\"Prediction3\"])"
      ],
      "execution_count": 0,
      "outputs": [
        {
          "output_type": "stream",
          "text": [
            "Date\n",
            "2018-12-17    Negative\n",
            "2018-12-18    Negative\n",
            "2018-12-19    Negative\n",
            "2018-12-20    Negative\n",
            "2018-12-21    Negative\n",
            "                ...   \n",
            "2019-12-06    Positive\n",
            "2019-12-09    Positive\n",
            "2019-12-10    Positive\n",
            "2019-12-11    Positive\n",
            "2019-12-12    Positive\n",
            "Name: Prediction3, Length: 253, dtype: object\n"
          ],
          "name": "stdout"
        }
      ]
    },
    {
      "cell_type": "code",
      "metadata": {
        "id": "Kh2M6ZZEOk3b",
        "colab_type": "code",
        "outputId": "d5d243bb-f7bf-4169-d439-02ed389ea0c0",
        "colab": {
          "base_uri": "https://localhost:8080/",
          "height": 156
        }
      },
      "source": [
        "counts = ct(data3[\"Prediction3\"])\n",
        "count_p = counts['Positive']\n",
        "count_n = counts['Negative']\n",
        "slices = [count_p,count_n]\n",
        "cols = ['b','c']\n",
        "plt.pie(slices, labels=['Positive','Negative'],colors = cols,shadow=True,startangle=90,autopct='%1.1f%%')\n",
        "plt.title(\"Prediksi\")\n",
        "plt.legend()\n",
        "plt.show()"
      ],
      "execution_count": 0,
      "outputs": [
        {
          "output_type": "display_data",
          "data": {
            "image/png": "[encoded data removed]",
            "text/plain": [
              "<Figure size 576x144 with 1 Axes>"
            ]
          },
          "metadata": {
            "tags": []
          }
        }
      ]
    },
    {
      "cell_type": "code",
      "metadata": {
        "id": "0VzWyPVEOpTy",
        "colab_type": "code",
        "colab": {}
      },
      "source": [
        "data4 = pd.read_csv('gdrive/My Drive/Probstok/Compare.csv')"
      ],
      "execution_count": 0,
      "outputs": []
    },
    {
      "cell_type": "code",
      "metadata": {
        "id": "-U5EAsGMOskX",
        "colab_type": "code",
        "outputId": "8f0f35a8-b42f-46be-c851-9f14717746a1",
        "colab": {
          "base_uri": "https://localhost:8080/",
          "height": 142
        }
      },
      "source": [
        "pearsoncorr = data4.corr(method='pearson')\n",
        "pearsoncorr"
      ],
      "execution_count": 0,
      "outputs": [
        {
          "output_type": "execute_result",
          "data": {
            "text/html": [
              "<div>\n",
              "<style scoped>\n",
              "    .dataframe tbody tr th:only-of-type {\n",
              "        vertical-align: middle;\n",
              "    }\n",
              "\n",
              "    .dataframe tbody tr th {\n",
              "        vertical-align: top;\n",
              "    }\n",
              "\n",
              "    .dataframe thead th {\n",
              "        text-align: right;\n",
              "    }\n",
              "</style>\n",
              "<table border=\"1\" class=\"dataframe\">\n",
              "  <thead>\n",
              "    <tr style=\"text-align: right;\">\n",
              "      <th></th>\n",
              "      <th>Adj Close 1</th>\n",
              "      <th>Adj Close 2</th>\n",
              "      <th>Adj Close 3</th>\n",
              "    </tr>\n",
              "  </thead>\n",
              "  <tbody>\n",
              "    <tr>\n",
              "      <th>Adj Close 1</th>\n",
              "      <td>1.000000</td>\n",
              "      <td>-0.302198</td>\n",
              "      <td>0.723334</td>\n",
              "    </tr>\n",
              "    <tr>\n",
              "      <th>Adj Close 2</th>\n",
              "      <td>-0.302198</td>\n",
              "      <td>1.000000</td>\n",
              "      <td>0.174768</td>\n",
              "    </tr>\n",
              "    <tr>\n",
              "      <th>Adj Close 3</th>\n",
              "      <td>0.723334</td>\n",
              "      <td>0.174768</td>\n",
              "      <td>1.000000</td>\n",
              "    </tr>\n",
              "  </tbody>\n",
              "</table>\n",
              "</div>"
            ],
            "text/plain": [
              "             Adj Close 1  Adj Close 2  Adj Close 3\n",
              "Adj Close 1     1.000000    -0.302198     0.723334\n",
              "Adj Close 2    -0.302198     1.000000     0.174768\n",
              "Adj Close 3     0.723334     0.174768     1.000000"
            ]
          },
          "metadata": {
            "tags": []
          },
          "execution_count": 131
        }
      ]
    },
    {
      "cell_type": "code",
      "metadata": {
        "id": "qdzg7Dv0OwCm",
        "colab_type": "code",
        "colab": {}
      },
      "source": [
        "import seaborn as sb"
      ],
      "execution_count": 0,
      "outputs": []
    },
    {
      "cell_type": "code",
      "metadata": {
        "id": "jnEDTn0kO3hd",
        "colab_type": "code",
        "outputId": "2f5fb46b-7dcb-47fd-ab38-1f6c058bbbb9",
        "colab": {
          "base_uri": "https://localhost:8080/",
          "height": 180
        }
      },
      "source": [
        "sb.heatmap(pearsoncorr, \n",
        "            xticklabels=pearsoncorr.columns,\n",
        "            yticklabels=pearsoncorr.columns,\n",
        "            cmap='RdBu_r',\n",
        "            annot=True,\n",
        "            linewidth=0.5)"
      ],
      "execution_count": 0,
      "outputs": [
        {
          "output_type": "execute_result",
          "data": {
            "text/plain": [
              "<matplotlib.axes._subplots.AxesSubplot at 0x7f6e796e7550>"
            ]
          },
          "metadata": {
            "tags": []
          },
          "execution_count": 125
        },
        {
          "output_type": "display_data",
          "data": {
            "image/png": "[encoded data removed]",
            "text/plain": [
              "<Figure size 576x144 with 2 Axes>"
            ]
          },
          "metadata": {
            "tags": []
          }
        }
      ]
    },
    {
      "cell_type": "code",
      "metadata": {
        "id": "9eHOt-IinHdP",
        "colab_type": "code",
        "outputId": "60ea0500-b2ac-4813-bc0c-08600d300baa",
        "colab": {
          "base_uri": "https://localhost:8080/",
          "height": 34
        }
      },
      "source": [
        "#Ini meratakan-ratakan data pada perusahaan XON pada tahun 2018-2019\n",
        "data4['Adj Close 3'].mean()"
      ],
      "execution_count": 0,
      "outputs": [
        {
          "output_type": "execute_result",
          "data": {
            "text/plain": [
              "72.00405563318776"
            ]
          },
          "metadata": {
            "tags": []
          },
          "execution_count": 134
        }
      ]
    },
    {
      "cell_type": "code",
      "metadata": {
        "id": "YVJ5aQiPne5Z",
        "colab_type": "code",
        "colab": {}
      },
      "source": [
        "base_data4 = \"Adj Close 3\"\n",
        "data_p4= 72.00405563318776\n",
        "data4[\"Prediction4\"] = np.where(\n",
        "data4[base_data4] >= data_p4,\"Positive\",\"Negative\")"
      ],
      "execution_count": 0,
      "outputs": []
    },
    {
      "cell_type": "code",
      "metadata": {
        "id": "YJjKxz5dnzGA",
        "colab_type": "code",
        "outputId": "4e5f9590-0e6b-416a-bda6-2926525a53ed",
        "colab": {
          "base_uri": "https://localhost:8080/",
          "height": 221
        }
      },
      "source": [
        "print(data4[\"Prediction4\"])"
      ],
      "execution_count": 0,
      "outputs": [
        {
          "output_type": "stream",
          "text": [
            "0      Negative\n",
            "1      Negative\n",
            "2      Negative\n",
            "3      Negative\n",
            "4      Negative\n",
            "         ...   \n",
            "224    Negative\n",
            "225    Negative\n",
            "226    Negative\n",
            "227    Negative\n",
            "228    Negative\n",
            "Name: Prediction4, Length: 229, dtype: object\n"
          ],
          "name": "stdout"
        }
      ]
    },
    {
      "cell_type": "code",
      "metadata": {
        "id": "Cwqzj0oHryg0",
        "colab_type": "code",
        "outputId": "9972f53c-c44a-4501-9f9a-bc07871997e1",
        "colab": {
          "base_uri": "https://localhost:8080/",
          "height": 156
        }
      },
      "source": [
        "counts = ct(data4[\"Prediction4\"])\n",
        "count_p = counts['Positive']\n",
        "count_n = counts['Negative']\n",
        "slices = [count_p,count_n]\n",
        "cols = ['b','c']\n",
        "plt.pie(slices, labels=['Positive','Negative'],colors = cols,shadow=True,startangle=90,autopct='%1.1f%%')\n",
        "plt.title(\"Prediksi\")\n",
        "plt.legend()\n",
        "plt.show()"
      ],
      "execution_count": 0,
      "outputs": [
        {
          "output_type": "display_data",
          "data": {
            "image/png": "[encoded data removed]",
            "text/plain": [
              "<Figure size 576x144 with 1 Axes>"
            ]
          },
          "metadata": {
            "tags": []
          }
        }
      ]
    },
    {
      "cell_type": "code",
      "metadata": {
        "id": "sL47L3inxsqn",
        "colab_type": "code",
        "colab": {}
      },
      "source": [
        "import pandas as pd\n",
        "from pylab import rcParams\n",
        "import seaborn as sb\n",
        "from scipy.stats.stats import kendalltau"
      ],
      "execution_count": 0,
      "outputs": []
    },
    {
      "cell_type": "code",
      "metadata": {
        "id": "FMln4rgyypg7",
        "colab_type": "code",
        "colab": {}
      },
      "source": [
        "# Data Visualisation Settings \n",
        "%matplotlib inline\n",
        "rcParams['figure.figsize'] = 5,4\n",
        "sb.set_style('whitegrid')"
      ],
      "execution_count": 0,
      "outputs": []
    },
    {
      "cell_type": "code",
      "metadata": {
        "id": "KqSTgQYSyuA7",
        "colab_type": "code",
        "colab": {}
      },
      "source": [
        "corr = data4.corr(method='kendall')"
      ],
      "execution_count": 0,
      "outputs": []
    },
    {
      "cell_type": "code",
      "metadata": {
        "id": "jBJZwq10zUU7",
        "colab_type": "code",
        "outputId": "d9016793-f628-435a-ac52-f0275ce276d8",
        "colab": {
          "base_uri": "https://localhost:8080/",
          "height": 521
        }
      },
      "source": [
        "rcParams['figure.figsize'] = 14.7,8.27\n",
        "sb.heatmap(corr, \n",
        "           xticklabels=corr.columns.values, \n",
        "           yticklabels=corr.columns.values, \n",
        "           cmap=\"YlGnBu\",\n",
        "          annot=True)"
      ],
      "execution_count": 0,
      "outputs": [
        {
          "output_type": "execute_result",
          "data": {
            "text/plain": [
              "<matplotlib.axes._subplots.AxesSubplot at 0x7f6e799318d0>"
            ]
          },
          "metadata": {
            "tags": []
          },
          "execution_count": 145
        },
        {
          "output_type": "display_data",
          "data": {
            "image/png": "[encoded data removed]",
            "text/plain": [
              "<Figure size 1058.4x595.44 with 2 Axes>"
            ]
          },
          "metadata": {
            "tags": []
          }
        }
      ]
    }
  ]
}